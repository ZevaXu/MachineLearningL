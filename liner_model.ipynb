{
 "cells": [
  {
   "cell_type": "code",
   "execution_count": 1,
   "id": "7eac8d0d-8f37-4e3e-be76-9caed1f1d88d",
   "metadata": {},
   "outputs": [],
   "source": [
    "#设置一个线性函数，生成一组点"
   ]
  },
  {
   "cell_type": "code",
   "execution_count": 2,
   "id": "014e4c8c-a9e5-4576-a137-ec01b7e96286",
   "metadata": {},
   "outputs": [],
   "source": [
    "def generator(x):\n",
    "    return 8*x+9"
   ]
  },
  {
   "cell_type": "code",
   "execution_count": 5,
   "id": "86136ed0-02dd-491c-a0dc-c254ccd4bc7b",
   "metadata": {},
   "outputs": [],
   "source": [
    "x_train = [x for x in range(20)]"
   ]
  },
  {
   "cell_type": "code",
   "execution_count": 25,
   "id": "630863e4-6cb6-4a14-89a8-191f0b196d1e",
   "metadata": {},
   "outputs": [
    {
     "data": {
      "text/plain": [
       "[0, 1, 2, 3, 4, 5, 6, 7, 8, 9, 10, 11, 12, 13, 14, 15, 16, 17, 18, 19]"
      ]
     },
     "execution_count": 25,
     "metadata": {},
     "output_type": "execute_result"
    }
   ],
   "source": [
    "x_train"
   ]
  },
  {
   "cell_type": "code",
   "execution_count": 8,
   "id": "ee466004-0dfe-4a65-b70e-f0365862aecc",
   "metadata": {},
   "outputs": [],
   "source": [
    "y = [generator(x) for x in range(20)]"
   ]
  },
  {
   "cell_type": "code",
   "execution_count": 26,
   "id": "df8898d9-2590-495f-a244-06861d901546",
   "metadata": {
    "collapsed": true,
    "jupyter": {
     "outputs_hidden": true
    },
    "tags": []
   },
   "outputs": [
    {
     "data": {
      "text/plain": [
       "[9.534686152867799,\n",
       " 18.16337722283388,\n",
       " 26.430294077727048,\n",
       " 33.05271916975322,\n",
       " 41.01660716970335,\n",
       " 49.94378001735885,\n",
       " 58.74967511718607,\n",
       " 66.06762096548951,\n",
       " 74.18905922468267,\n",
       " 82.8966278581915,\n",
       " 90.58849332237912,\n",
       " 97.17543676507276,\n",
       " 106.12753469672995,\n",
       " 114.45797273392071,\n",
       " 121.80848159866599,\n",
       " 129.2882672875631,\n",
       " 138.7821503124511,\n",
       " 145.39811778496681,\n",
       " 154.87592066639127,\n",
       " 162.95406080789706]"
      ]
     },
     "execution_count": 26,
     "metadata": {},
     "output_type": "execute_result"
    }
   ],
   "source": []
  },
  {
   "cell_type": "code",
   "execution_count": 10,
   "id": "d8bd380c-5e10-48c6-b2c6-b00d5ceaad73",
   "metadata": {},
   "outputs": [],
   "source": [
    "import numpy as np"
   ]
  },
  {
   "cell_type": "code",
   "execution_count": 47,
   "id": "b68a7215-8c9f-4478-95aa-13690ade8e57",
   "metadata": {
    "tags": []
   },
   "outputs": [
    {
     "data": {
      "text/plain": [
       "[11.555953350187187,\n",
       " 11.753703399561463,\n",
       " 13.724548978474516,\n",
       " 8.481629656830112,\n",
       " 12.344042755696487,\n",
       " 1.4371940565172703,\n",
       " 4.78717278969347,\n",
       " 19.458012710373396,\n",
       " 17.462995404638214,\n",
       " 9.679006826871227,\n",
       " 12.462926704054613,\n",
       " 10.7265245296991,\n",
       " 1.0264744917302537,\n",
       " 16.70490090821075,\n",
       " 13.28047735213492,\n",
       " 15.611313150487028,\n",
       " 0.5775566978265667,\n",
       " 18.50854756970891,\n",
       " 4.835173903349583,\n",
       " 18.90840244818293]"
      ]
     },
     "execution_count": 47,
     "metadata": {},
     "output_type": "execute_result"
    }
   ],
   "source": [
    "temp = np.random.rand(20)\n",
    "temp = [i*20 for i in temp]\n",
    "temp"
   ]
  },
  {
   "cell_type": "code",
   "execution_count": 48,
   "id": "38dddf45-c696-4dfc-9264-00188efd434a",
   "metadata": {},
   "outputs": [],
   "source": [
    "y = np.sum([y,temp],axis=0).tolist()"
   ]
  },
  {
   "cell_type": "code",
   "execution_count": 49,
   "id": "6652dd45-f380-4892-8461-707c1c01eb57",
   "metadata": {},
   "outputs": [
    {
     "data": {
      "text/plain": [
       "9.5"
      ]
     },
     "execution_count": 49,
     "metadata": {},
     "output_type": "execute_result"
    }
   ],
   "source": [
    "x_means = sum(x_train)/len(x_train)\n",
    "x_means"
   ]
  },
  {
   "cell_type": "code",
   "execution_count": 50,
   "id": "86380f12-7d1c-4a35-b8bb-52e285230e4e",
   "metadata": {},
   "outputs": [
    {
     "data": {
      "text/plain": [
       "99.57313643249466"
      ]
     },
     "execution_count": 50,
     "metadata": {},
     "output_type": "execute_result"
    }
   ],
   "source": [
    "y_means = sum(y)/len(y)\n",
    "y_means"
   ]
  },
  {
   "cell_type": "code",
   "execution_count": 51,
   "id": "1088794f-26bd-4b76-928d-4074d3b32401",
   "metadata": {},
   "outputs": [],
   "source": [
    "def cal_w(x,y,x_means):\n",
    "    #计算分子\n",
    "    molecule = 0\n",
    "    denominator = 0\n",
    "    denominator_half =0\n",
    "    for i in range(len(y)):\n",
    "        molecule += (y[i]*(x[i]-x_means))\n",
    "        denominator_half += x[i]*x[i]\n",
    "    denominator = denominator_half - sum(x_train)*x_means\n",
    "    return molecule/denominator"
   ]
  },
  {
   "cell_type": "code",
   "execution_count": 52,
   "id": "2fb9ee98-2972-480a-9efe-dec268afa7bd",
   "metadata": {},
   "outputs": [],
   "source": [
    "def cal_b(x_means,y_means,w):\n",
    "    return y_means - w*x_means"
   ]
  },
  {
   "cell_type": "code",
   "execution_count": 53,
   "id": "e794657e-b305-4c17-b878-5a71e9b8eaff",
   "metadata": {},
   "outputs": [],
   "source": [
    "w = cal_w(x_train,y,x_means)\n",
    "b = cal_b(x_means,y_means,w)"
   ]
  },
  {
   "cell_type": "code",
   "execution_count": 54,
   "id": "87dc5719-43b1-47bf-a8d8-c6c4f476564b",
   "metadata": {},
   "outputs": [
    {
     "data": {
      "text/plain": [
       "8.079172988643963"
      ]
     },
     "execution_count": 54,
     "metadata": {},
     "output_type": "execute_result"
    }
   ],
   "source": [
    "w"
   ]
  },
  {
   "cell_type": "code",
   "execution_count": 55,
   "id": "36468067-09ea-43ac-a377-c9bff5d99710",
   "metadata": {},
   "outputs": [
    {
     "data": {
      "text/plain": [
       "22.82099304037702"
      ]
     },
     "execution_count": 55,
     "metadata": {},
     "output_type": "execute_result"
    }
   ],
   "source": [
    "b"
   ]
  },
  {
   "cell_type": "code",
   "execution_count": 43,
   "id": "7b4a1475-d08c-43b2-83c1-7c454fd74edf",
   "metadata": {},
   "outputs": [],
   "source": [
    "import matplotlib.pyplot as plt"
   ]
  },
  {
   "cell_type": "code",
   "execution_count": 56,
   "id": "b2bd312b-1cc2-45bb-849f-8cb008d300e4",
   "metadata": {},
   "outputs": [],
   "source": [
    "p = np.arange(0,20,0.1)\n",
    "q = []\n",
    "for i in p:\n",
    "    q_temp = w*i + b \n",
    "    q.append(q_temp)"
   ]
  },
  {
   "cell_type": "code",
   "execution_count": 58,
   "id": "dcf5fa44-e48a-437a-9399-6b2836604aff",
   "metadata": {},
   "outputs": [
    {
     "data": {
      "image/png": "[encoded data removed]",
      "text/plain": [
       "<Figure size 432x288 with 1 Axes>"
      ]
     },
     "metadata": {
      "needs_background": "light"
     },
     "output_type": "display_data"
    }
   ],
   "source": [
    "plt.plot(p,q,label=\"fit_curve\",color=\"orange\")\n",
    "plt.scatter(x_train,y,alpha=0.6,label=\"input_state\")\n",
    "plt.legend()\n",
    "plt.show()"
   ]
  },
  {
   "cell_type": "code",
   "execution_count": null,
   "id": "9349127d-c023-41c4-8340-654370ce2c4a",
   "metadata": {},
   "outputs": [],
   "source": []
  }
 ],
 "metadata": {
  "kernelspec": {
   "display_name": "Python 3",
   "language": "python",
   "name": "python3"
  },
  "language_info": {
   "codemirror_mode": {
    "name": "ipython",
    "version": 3
   },
   "file_extension": ".py",
   "mimetype": "text/x-python",
   "name": "python",
   "nbconvert_exporter": "python",
   "pygments_lexer": "ipython3",
   "version": "3.8.10"
  }
 },
 "nbformat": 4,
 "nbformat_minor": 5
}
